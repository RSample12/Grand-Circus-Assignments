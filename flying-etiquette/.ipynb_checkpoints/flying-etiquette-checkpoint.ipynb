{
 "cells": [
  {
   "cell_type": "code",
   "execution_count": 1,
   "id": "8dd34945-cd8e-445a-8615-3aac25d633e3",
   "metadata": {},
   "outputs": [],
   "source": [
    "import pandas as pd\n",
    "import numpy as np\n",
    "\n",
    "# import data\n",
    "df = pd.read_csv('flying-etiquette.csv')"
   ]
  },
  {
   "cell_type": "raw",
   "id": "e614fdd5-6e56-4190-9fc8-fccf60851246",
   "metadata": {},
   "source": [
    "Build Specifications\n",
    "    In your notebook, document the EDA steps you take as you prepare and explore the dataset.\n",
    "    As part of data preparation, use the information from \"How tall are you?\" to produce a new \"Height (Inches)\" column.\n",
    "        - Change “Under 5 ft” to “5 ft”\n",
    "        - Create a new column, “Height (Inches)”, that converts the “How tall are you?” column in feet and inches to an integer of total inches.\n",
    "    In the report portion of the notebook, use visuals and text to answer the following:\n",
    "        - Percent breakdown of survey participants by age range.\n",
    "        - How did survey respondents generally feel regarding if “it [was] rude to ask someone to switch seats with you in order to be closer to friends?”?\n",
    "        - Use the respondents age as a dimension to see if there are any differences to responses to “it [was] rude to ask someone to switch seats with you in order to be               closer to friends?”?\n",
    "        - What is the relationship between “Do you ever recline your seat when you fly?” and “How tall are you?”. How about other questions that might relate to height.\n",
    "\n",
    "Additional Specifications\n",
    "    You may use seaborn or matplotlib for your plots. Plot must include:\n",
    "        - Title\n",
    "        - X-axis title\n",
    "        - Y-axis title\n",
    "        - Proper dimensions\n",
    "        - Any necessary legends\n",
    "    Make sure you are intentional about the visualization you choose. Try bar charts and/or pie charts. Which is easier to read?"
   ]
  },
  {
   "cell_type": "code",
   "execution_count": 2,
   "id": "ade2d74e-b1dc-4847-8568-60ae1c0425ba",
   "metadata": {},
   "outputs": [
    {
     "data": {
      "text/html": [
       "<div>\n",
       "<style scoped>\n",
       "    .dataframe tbody tr th:only-of-type {\n",
       "        vertical-align: middle;\n",
       "    }\n",
       "\n",
       "    .dataframe tbody tr th {\n",
       "        vertical-align: top;\n",
       "    }\n",
       "\n",
       "    .dataframe thead th {\n",
       "        text-align: right;\n",
       "    }\n",
       "</style>\n",
       "<table border=\"1\" class=\"dataframe\">\n",
       "  <thead>\n",
       "    <tr style=\"text-align: right;\">\n",
       "      <th></th>\n",
       "      <th>RespondentID</th>\n",
       "      <th>How often do you travel by plane?</th>\n",
       "      <th>Do you ever recline your seat when you fly?</th>\n",
       "      <th>How tall are you?</th>\n",
       "      <th>Do you have any children under 18?</th>\n",
       "      <th>In a row of three seats, who should get to use the two arm rests?</th>\n",
       "      <th>In a row of two seats, who should get to use the middle arm rest?</th>\n",
       "      <th>Who should have control over the window shade?</th>\n",
       "      <th>Is itrude to move to an unsold seat on a plane?</th>\n",
       "      <th>Generally speaking, is it rude to say more than a few words tothe stranger sitting next to you on a plane?</th>\n",
       "      <th>...</th>\n",
       "      <th>Is itrude to wake a passenger up if you are trying to walk around?</th>\n",
       "      <th>In general, is itrude to bring a baby on a plane?</th>\n",
       "      <th>In general, is it rude to knowingly bring unruly children on a plane?</th>\n",
       "      <th>Have you ever used personal electronics during take off or landing in violation of a flight attendant's direction?</th>\n",
       "      <th>Have you ever smoked a cigarette in an airplane bathroom when it was against the rules?</th>\n",
       "      <th>Gender</th>\n",
       "      <th>Age</th>\n",
       "      <th>Household Income</th>\n",
       "      <th>Education</th>\n",
       "      <th>Location (Census Region)</th>\n",
       "    </tr>\n",
       "  </thead>\n",
       "  <tbody>\n",
       "    <tr>\n",
       "      <th>0</th>\n",
       "      <td>3436139758</td>\n",
       "      <td>Once a year or less</td>\n",
       "      <td>NaN</td>\n",
       "      <td>NaN</td>\n",
       "      <td>NaN</td>\n",
       "      <td>NaN</td>\n",
       "      <td>NaN</td>\n",
       "      <td>NaN</td>\n",
       "      <td>NaN</td>\n",
       "      <td>NaN</td>\n",
       "      <td>...</td>\n",
       "      <td>NaN</td>\n",
       "      <td>NaN</td>\n",
       "      <td>NaN</td>\n",
       "      <td>NaN</td>\n",
       "      <td>NaN</td>\n",
       "      <td>NaN</td>\n",
       "      <td>NaN</td>\n",
       "      <td>NaN</td>\n",
       "      <td>NaN</td>\n",
       "      <td>NaN</td>\n",
       "    </tr>\n",
       "    <tr>\n",
       "      <th>1</th>\n",
       "      <td>3434278696</td>\n",
       "      <td>Once a year or less</td>\n",
       "      <td>About half the time</td>\n",
       "      <td>6'3\"</td>\n",
       "      <td>Yes</td>\n",
       "      <td>The arm rests should be shared</td>\n",
       "      <td>The arm rests should be shared</td>\n",
       "      <td>Everyone in the row should have some say</td>\n",
       "      <td>No, not rude at all</td>\n",
       "      <td>No, not at all rude</td>\n",
       "      <td>...</td>\n",
       "      <td>No, not at all rude</td>\n",
       "      <td>No, not at all rude</td>\n",
       "      <td>No, not at all rude</td>\n",
       "      <td>No</td>\n",
       "      <td>No</td>\n",
       "      <td>Male</td>\n",
       "      <td>30-44</td>\n",
       "      <td>NaN</td>\n",
       "      <td>Graduate degree</td>\n",
       "      <td>Pacific</td>\n",
       "    </tr>\n",
       "    <tr>\n",
       "      <th>2</th>\n",
       "      <td>3434275578</td>\n",
       "      <td>Once a year or less</td>\n",
       "      <td>Usually</td>\n",
       "      <td>5'8\"</td>\n",
       "      <td>No</td>\n",
       "      <td>Whoever puts their arm on the arm rest first</td>\n",
       "      <td>The arm rests should be shared</td>\n",
       "      <td>The person in the window seat should have excl...</td>\n",
       "      <td>No, not rude at all</td>\n",
       "      <td>No, not at all rude</td>\n",
       "      <td>...</td>\n",
       "      <td>Yes, somewhat rude</td>\n",
       "      <td>Yes, somewhat rude</td>\n",
       "      <td>Yes, very rude</td>\n",
       "      <td>No</td>\n",
       "      <td>No</td>\n",
       "      <td>Male</td>\n",
       "      <td>30-44</td>\n",
       "      <td>$100,000 - $149,999</td>\n",
       "      <td>Bachelor degree</td>\n",
       "      <td>Pacific</td>\n",
       "    </tr>\n",
       "    <tr>\n",
       "      <th>3</th>\n",
       "      <td>3434268208</td>\n",
       "      <td>Once a year or less</td>\n",
       "      <td>Always</td>\n",
       "      <td>5'11\"</td>\n",
       "      <td>No</td>\n",
       "      <td>The arm rests should be shared</td>\n",
       "      <td>The arm rests should be shared</td>\n",
       "      <td>Everyone in the row should have some say</td>\n",
       "      <td>No, not rude at all</td>\n",
       "      <td>No, not at all rude</td>\n",
       "      <td>...</td>\n",
       "      <td>Yes, somewhat rude</td>\n",
       "      <td>Yes, somewhat rude</td>\n",
       "      <td>Yes, very rude</td>\n",
       "      <td>No</td>\n",
       "      <td>No</td>\n",
       "      <td>Male</td>\n",
       "      <td>30-44</td>\n",
       "      <td>$0 - $24,999</td>\n",
       "      <td>Bachelor degree</td>\n",
       "      <td>Pacific</td>\n",
       "    </tr>\n",
       "    <tr>\n",
       "      <th>4</th>\n",
       "      <td>3434250245</td>\n",
       "      <td>Once a month or less</td>\n",
       "      <td>About half the time</td>\n",
       "      <td>5'7\"</td>\n",
       "      <td>No</td>\n",
       "      <td>The person in the middle seat gets both arm rests</td>\n",
       "      <td>The person in aisle</td>\n",
       "      <td>Everyone in the row should have some say</td>\n",
       "      <td>No, not rude at all</td>\n",
       "      <td>No, not at all rude</td>\n",
       "      <td>...</td>\n",
       "      <td>Yes, somewhat rude</td>\n",
       "      <td>Yes, somewhat rude</td>\n",
       "      <td>Yes, very rude</td>\n",
       "      <td>Yes</td>\n",
       "      <td>No</td>\n",
       "      <td>Male</td>\n",
       "      <td>30-44</td>\n",
       "      <td>$50,000 - $99,999</td>\n",
       "      <td>Bachelor degree</td>\n",
       "      <td>Pacific</td>\n",
       "    </tr>\n",
       "  </tbody>\n",
       "</table>\n",
       "<p>5 rows × 27 columns</p>\n",
       "</div>"
      ],
      "text/plain": [
       "   RespondentID How often do you travel by plane?  \\\n",
       "0    3436139758               Once a year or less   \n",
       "1    3434278696               Once a year or less   \n",
       "2    3434275578               Once a year or less   \n",
       "3    3434268208               Once a year or less   \n",
       "4    3434250245              Once a month or less   \n",
       "\n",
       "  Do you ever recline your seat when you fly? How tall are you?  \\\n",
       "0                                         NaN               NaN   \n",
       "1                         About half the time              6'3\"   \n",
       "2                                     Usually              5'8\"   \n",
       "3                                      Always             5'11\"   \n",
       "4                         About half the time              5'7\"   \n",
       "\n",
       "  Do you have any children under 18?  \\\n",
       "0                                NaN   \n",
       "1                                Yes   \n",
       "2                                 No   \n",
       "3                                 No   \n",
       "4                                 No   \n",
       "\n",
       "  In a row of three seats, who should get to use the two arm rests?  \\\n",
       "0                                                NaN                  \n",
       "1                     The arm rests should be shared                  \n",
       "2       Whoever puts their arm on the arm rest first                  \n",
       "3                     The arm rests should be shared                  \n",
       "4  The person in the middle seat gets both arm rests                  \n",
       "\n",
       "  In a row of two seats, who should get to use the middle arm rest?  \\\n",
       "0                                                NaN                  \n",
       "1                     The arm rests should be shared                  \n",
       "2                     The arm rests should be shared                  \n",
       "3                     The arm rests should be shared                  \n",
       "4                                The person in aisle                  \n",
       "\n",
       "      Who should have control over the window shade?  \\\n",
       "0                                                NaN   \n",
       "1           Everyone in the row should have some say   \n",
       "2  The person in the window seat should have excl...   \n",
       "3           Everyone in the row should have some say   \n",
       "4           Everyone in the row should have some say   \n",
       "\n",
       "  Is itrude to move to an unsold seat on a plane?  \\\n",
       "0                                             NaN   \n",
       "1                             No, not rude at all   \n",
       "2                             No, not rude at all   \n",
       "3                             No, not rude at all   \n",
       "4                             No, not rude at all   \n",
       "\n",
       "  Generally speaking, is it rude to say more than a few words tothe stranger sitting next to you on a plane?  \\\n",
       "0                                                NaN                                                           \n",
       "1                                No, not at all rude                                                           \n",
       "2                                No, not at all rude                                                           \n",
       "3                                No, not at all rude                                                           \n",
       "4                                No, not at all rude                                                           \n",
       "\n",
       "   ... Is itrude to wake a passenger up if you are trying to walk around?  \\\n",
       "0  ...                                                NaN                   \n",
       "1  ...                                No, not at all rude                   \n",
       "2  ...                                 Yes, somewhat rude                   \n",
       "3  ...                                 Yes, somewhat rude                   \n",
       "4  ...                                 Yes, somewhat rude                   \n",
       "\n",
       "  In general, is itrude to bring a baby on a plane?  \\\n",
       "0                                               NaN   \n",
       "1                               No, not at all rude   \n",
       "2                                Yes, somewhat rude   \n",
       "3                                Yes, somewhat rude   \n",
       "4                                Yes, somewhat rude   \n",
       "\n",
       "  In general, is it rude to knowingly bring unruly children on a plane?  \\\n",
       "0                                                NaN                      \n",
       "1                                No, not at all rude                      \n",
       "2                                     Yes, very rude                      \n",
       "3                                     Yes, very rude                      \n",
       "4                                     Yes, very rude                      \n",
       "\n",
       "  Have you ever used personal electronics during take off or landing in violation of a flight attendant's direction?  \\\n",
       "0                                                NaN                                                                   \n",
       "1                                                 No                                                                   \n",
       "2                                                 No                                                                   \n",
       "3                                                 No                                                                   \n",
       "4                                                Yes                                                                   \n",
       "\n",
       "  Have you ever smoked a cigarette in an airplane bathroom when it was against the rules?  \\\n",
       "0                                                NaN                                        \n",
       "1                                                 No                                        \n",
       "2                                                 No                                        \n",
       "3                                                 No                                        \n",
       "4                                                 No                                        \n",
       "\n",
       "  Gender    Age     Household Income        Education Location (Census Region)  \n",
       "0    NaN    NaN                  NaN              NaN                      NaN  \n",
       "1   Male  30-44                  NaN  Graduate degree                  Pacific  \n",
       "2   Male  30-44  $100,000 - $149,999  Bachelor degree                  Pacific  \n",
       "3   Male  30-44         $0 - $24,999  Bachelor degree                  Pacific  \n",
       "4   Male  30-44    $50,000 - $99,999  Bachelor degree                  Pacific  \n",
       "\n",
       "[5 rows x 27 columns]"
      ]
     },
     "execution_count": 2,
     "metadata": {},
     "output_type": "execute_result"
    }
   ],
   "source": [
    "# Inspect Data\n",
    "df.head()"
   ]
  },
  {
   "cell_type": "code",
   "execution_count": 3,
   "id": "a4612080-4e86-4c57-97c2-55c94c4f2a7d",
   "metadata": {},
   "outputs": [
    {
     "name": "stdout",
     "output_type": "stream",
     "text": [
      "<class 'pandas.core.frame.DataFrame'>\n",
      "RangeIndex: 1040 entries, 0 to 1039\n",
      "Data columns (total 27 columns):\n",
      " #   Column                                                                                                                                    Non-Null Count  Dtype \n",
      "---  ------                                                                                                                                    --------------  ----- \n",
      " 0   RespondentID                                                                                                                              1040 non-null   int64 \n",
      " 1   How often do you travel by plane?                                                                                                         1040 non-null   object\n",
      " 2   Do you ever recline your seat when you fly?                                                                                               858 non-null    object\n",
      " 3   How tall are you?                                                                                                                         858 non-null    object\n",
      " 4   Do you have any children under 18?                                                                                                        851 non-null    object\n",
      " 5   In a row of three seats, who should get to use the two arm rests?                                                                         856 non-null    object\n",
      " 6   In a row of two seats, who should get to use the middle arm rest?                                                                         856 non-null    object\n",
      " 7   Who should have control over the window shade?                                                                                            856 non-null    object\n",
      " 8   Is itrude to move to an unsold seat on a plane?                                                                                           855 non-null    object\n",
      " 9   Generally speaking, is it rude to say more than a few words tothe stranger sitting next to you on a plane?                                855 non-null    object\n",
      " 10  On a 6 hour flight from NYC to LA, how many times is it acceptable to get up if you're not in an aisle seat?                              855 non-null    object\n",
      " 11  Under normal circumstances, does a person who reclines their seat during a flight have any obligation to the person sitting behind them?  854 non-null    object\n",
      " 12  Is itrude to recline your seat on a plane?                                                                                                854 non-null    object\n",
      " 13  Given the opportunity, would you eliminate the possibility of reclining seats on planes entirely?                                         854 non-null    object\n",
      " 14  Is it rude to ask someone to switch seats with you in order to be closer to friends?                                                      850 non-null    object\n",
      " 15  Is itrude to ask someone to switch seats with you in order to be closer to family?                                                        850 non-null    object\n",
      " 16  Is it rude to wake a passenger up if you are trying to go to the bathroom?                                                                850 non-null    object\n",
      " 17  Is itrude to wake a passenger up if you are trying to walk around?                                                                        850 non-null    object\n",
      " 18  In general, is itrude to bring a baby on a plane?                                                                                         849 non-null    object\n",
      " 19  In general, is it rude to knowingly bring unruly children on a plane?                                                                     849 non-null    object\n",
      " 20  Have you ever used personal electronics during take off or landing in violation of a flight attendant's direction?                        849 non-null    object\n",
      " 21  Have you ever smoked a cigarette in an airplane bathroom when it was against the rules?                                                   849 non-null    object\n",
      " 22  Gender                                                                                                                                    1007 non-null   object\n",
      " 23  Age                                                                                                                                       1007 non-null   object\n",
      " 24  Household Income                                                                                                                          826 non-null    object\n",
      " 25  Education                                                                                                                                 1001 non-null   object\n",
      " 26  Location (Census Region)                                                                                                                  998 non-null    object\n",
      "dtypes: int64(1), object(26)\n",
      "memory usage: 219.5+ KB\n"
     ]
    }
   ],
   "source": [
    "df.info()"
   ]
  },
  {
   "cell_type": "code",
   "execution_count": 4,
   "id": "8505cc54-eebd-4eb2-a615-9690af957f6f",
   "metadata": {},
   "outputs": [
    {
     "data": {
      "text/plain": [
       "0"
      ]
     },
     "execution_count": 4,
     "metadata": {},
     "output_type": "execute_result"
    }
   ],
   "source": [
    "# Check duplicates\n",
    "df.duplicated().sum()"
   ]
  },
  {
   "cell_type": "code",
   "execution_count": 5,
   "id": "241babfc-472e-4b2f-b39f-d33cfdc928c7",
   "metadata": {},
   "outputs": [
    {
     "name": "stdout",
     "output_type": "stream",
     "text": [
      "<class 'pandas.core.frame.DataFrame'>\n",
      "Int64Index: 858 entries, 1 to 1039\n",
      "Data columns (total 27 columns):\n",
      " #   Column                                                                                                                                    Non-Null Count  Dtype \n",
      "---  ------                                                                                                                                    --------------  ----- \n",
      " 0   RespondentID                                                                                                                              858 non-null    int64 \n",
      " 1   How often do you travel by plane?                                                                                                         858 non-null    object\n",
      " 2   Do you ever recline your seat when you fly?                                                                                               858 non-null    object\n",
      " 3   How tall are you?                                                                                                                         858 non-null    object\n",
      " 4   Do you have any children under 18?                                                                                                        851 non-null    object\n",
      " 5   In a row of three seats, who should get to use the two arm rests?                                                                         856 non-null    object\n",
      " 6   In a row of two seats, who should get to use the middle arm rest?                                                                         856 non-null    object\n",
      " 7   Who should have control over the window shade?                                                                                            856 non-null    object\n",
      " 8   Is itrude to move to an unsold seat on a plane?                                                                                           855 non-null    object\n",
      " 9   Generally speaking, is it rude to say more than a few words tothe stranger sitting next to you on a plane?                                855 non-null    object\n",
      " 10  On a 6 hour flight from NYC to LA, how many times is it acceptable to get up if you're not in an aisle seat?                              855 non-null    object\n",
      " 11  Under normal circumstances, does a person who reclines their seat during a flight have any obligation to the person sitting behind them?  854 non-null    object\n",
      " 12  Is itrude to recline your seat on a plane?                                                                                                854 non-null    object\n",
      " 13  Given the opportunity, would you eliminate the possibility of reclining seats on planes entirely?                                         854 non-null    object\n",
      " 14  Is it rude to ask someone to switch seats with you in order to be closer to friends?                                                      850 non-null    object\n",
      " 15  Is itrude to ask someone to switch seats with you in order to be closer to family?                                                        850 non-null    object\n",
      " 16  Is it rude to wake a passenger up if you are trying to go to the bathroom?                                                                850 non-null    object\n",
      " 17  Is itrude to wake a passenger up if you are trying to walk around?                                                                        850 non-null    object\n",
      " 18  In general, is itrude to bring a baby on a plane?                                                                                         849 non-null    object\n",
      " 19  In general, is it rude to knowingly bring unruly children on a plane?                                                                     849 non-null    object\n",
      " 20  Have you ever used personal electronics during take off or landing in violation of a flight attendant's direction?                        849 non-null    object\n",
      " 21  Have you ever smoked a cigarette in an airplane bathroom when it was against the rules?                                                   849 non-null    object\n",
      " 22  Gender                                                                                                                                    843 non-null    object\n",
      " 23  Age                                                                                                                                       843 non-null    object\n",
      " 24  Household Income                                                                                                                          698 non-null    object\n",
      " 25  Education                                                                                                                                 837 non-null    object\n",
      " 26  Location (Census Region)                                                                                                                  837 non-null    object\n",
      "dtypes: int64(1), object(26)\n",
      "memory usage: 187.7+ KB\n"
     ]
    }
   ],
   "source": [
    "# drop row if height null\n",
    "df.dropna(subset=['How tall are you?'], inplace=True)\n",
    "df.info()"
   ]
  },
  {
   "cell_type": "code",
   "execution_count": 6,
   "id": "8691cebd-5955-4764-8942-4f88a3d821fd",
   "metadata": {},
   "outputs": [
    {
     "name": "stdout",
     "output_type": "stream",
     "text": [
      "['6\\'3\"' '5\\'8\"' '5\\'11\"' '5\\'7\"' '5\\'9\"' '6\\'2\"' '6\\'0\"' '5\\'6\"' '6\\'1\"'\n",
      " '5\\'10\"' '5\\'5\"' '6\\'4\"' '6\\'6\" and above' 'Under 5 ft.' '6\\'5\"' '5\\'4\"'\n",
      " '5\\'0\"' '5\\'3\"' '5\\'1\"' '5\\'2\"']\n"
     ]
    }
   ],
   "source": [
    "# Check erroneous\n",
    "print(df['How tall are you?'].unique())"
   ]
  },
  {
   "cell_type": "code",
   "execution_count": 16,
   "id": "6189b982-c6a6-41e7-81cc-4c58a34859ea",
   "metadata": {},
   "outputs": [],
   "source": [
    "# def function to convert height in string form into inches\n",
    "def feet_to_inches(string):\n",
    "    try:\n",
    "        if string == '6\\'6\" and above':\n",
    "            return 78\n",
    "        elif string == 'Under 5 ft.':\n",
    "            return 60\n",
    "        else:\n",
    "            split_strings = string.replace('\\\"','').replace(\"\\'\",'')\n",
    "            value = (int(split_strings[0]) * 12) + int(split_strings[1:])\n",
    "    except:\n",
    "        value = np.nan\n",
    "    return value"
   ]
  },
  {
   "cell_type": "code",
   "execution_count": 15,
   "id": "cc0837c7-194b-4efe-8f1f-34e207216d0f",
   "metadata": {
    "tags": []
   },
   "outputs": [
    {
     "data": {
      "text/plain": [
       "array([75, 68, 71, 67, 69, 74, 72, 66, 73, 70, 65, 76, 78, 60, 77, 64, 63,\n",
       "       61, 62], dtype=int64)"
      ]
     },
     "execution_count": 15,
     "metadata": {},
     "output_type": "execute_result"
    }
   ],
   "source": [
    "# apply function to proper col\n",
    "df['Height (Inches)'] = df['How tall are you?'].apply(feet_to_inches)\n",
    "df['Height (Inches)'].unique()"
   ]
  },
  {
   "cell_type": "code",
   "execution_count": 9,
   "id": "014b9449-c5e5-455e-90ea-5c3090f2a4f3",
   "metadata": {},
   "outputs": [
    {
     "data": {
      "text/html": [
       "<div>\n",
       "<style scoped>\n",
       "    .dataframe tbody tr th:only-of-type {\n",
       "        vertical-align: middle;\n",
       "    }\n",
       "\n",
       "    .dataframe tbody tr th {\n",
       "        vertical-align: top;\n",
       "    }\n",
       "\n",
       "    .dataframe thead th {\n",
       "        text-align: right;\n",
       "    }\n",
       "</style>\n",
       "<table border=\"1\" class=\"dataframe\">\n",
       "  <thead>\n",
       "    <tr style=\"text-align: right;\">\n",
       "      <th></th>\n",
       "      <th>RespondentID</th>\n",
       "      <th>Height (Inches)</th>\n",
       "    </tr>\n",
       "  </thead>\n",
       "  <tbody>\n",
       "    <tr>\n",
       "      <th>count</th>\n",
       "      <td>8.580000e+02</td>\n",
       "      <td>858.000000</td>\n",
       "    </tr>\n",
       "    <tr>\n",
       "      <th>mean</th>\n",
       "      <td>3.432693e+09</td>\n",
       "      <td>67.470862</td>\n",
       "    </tr>\n",
       "    <tr>\n",
       "      <th>std</th>\n",
       "      <td>5.890897e+05</td>\n",
       "      <td>3.936155</td>\n",
       "    </tr>\n",
       "    <tr>\n",
       "      <th>min</th>\n",
       "      <td>3.431730e+09</td>\n",
       "      <td>60.000000</td>\n",
       "    </tr>\n",
       "    <tr>\n",
       "      <th>25%</th>\n",
       "      <td>3.432259e+09</td>\n",
       "      <td>64.000000</td>\n",
       "    </tr>\n",
       "    <tr>\n",
       "      <th>50%</th>\n",
       "      <td>3.432652e+09</td>\n",
       "      <td>67.000000</td>\n",
       "    </tr>\n",
       "    <tr>\n",
       "      <th>75%</th>\n",
       "      <td>3.433127e+09</td>\n",
       "      <td>70.000000</td>\n",
       "    </tr>\n",
       "    <tr>\n",
       "      <th>max</th>\n",
       "      <td>3.434279e+09</td>\n",
       "      <td>78.000000</td>\n",
       "    </tr>\n",
       "  </tbody>\n",
       "</table>\n",
       "</div>"
      ],
      "text/plain": [
       "       RespondentID  Height (Inches)\n",
       "count  8.580000e+02       858.000000\n",
       "mean   3.432693e+09        67.470862\n",
       "std    5.890897e+05         3.936155\n",
       "min    3.431730e+09        60.000000\n",
       "25%    3.432259e+09        64.000000\n",
       "50%    3.432652e+09        67.000000\n",
       "75%    3.433127e+09        70.000000\n",
       "max    3.434279e+09        78.000000"
      ]
     },
     "execution_count": 9,
     "metadata": {},
     "output_type": "execute_result"
    }
   ],
   "source": [
    "df.describe()"
   ]
  },
  {
   "cell_type": "code",
   "execution_count": 10,
   "id": "552ed8f8-d5b9-4f22-88bb-6772f38902d0",
   "metadata": {},
   "outputs": [
    {
     "data": {
      "image/png": "[encoded data removed]",
      "text/plain": [
       "<Figure size 864x432 with 1 Axes>"
      ]
     },
     "metadata": {},
     "output_type": "display_data"
    }
   ],
   "source": [
    "import matplotlib.pyplot as plt\n",
    "\n",
    "# Plot proportions of age range as pie chart\n",
    "category_count = df['Age'].value_counts()\n",
    "proportions = category_count / category_count.sum()\n",
    "sizes = proportions.values * 100\n",
    "\n",
    "# Pie Chart\n",
    "plt.figure(figsize=(12, 6))\n",
    "plt.pie(sizes, labels=proportions.index, autopct='%1.2f%%')\n",
    "plt.title('Proportion of Age Range')\n",
    "plt.show()"
   ]
  },
  {
   "cell_type": "code",
   "execution_count": 11,
   "id": "2f0aa17b-2462-4a48-a5bb-459bc71206a9",
   "metadata": {},
   "outputs": [
    {
     "data": {
      "text/plain": [
       "Text(0.5, 1.0, 'General Feelings of moving to be closer to friends')"
      ]
     },
     "execution_count": 11,
     "metadata": {},
     "output_type": "execute_result"
    },
    {
     "data": {
      "image/png": "[encoded data removed]",
      "text/plain": [
       "<Figure size 864x432 with 1 Axes>"
      ]
     },
     "metadata": {
      "needs_background": "light"
     },
     "output_type": "display_data"
    }
   ],
   "source": [
    "# create distribution of 'Is it rude to ask someone to switch seats with you in order to be closer to friends?'\n",
    "import seaborn as sns\n",
    "\n",
    "plt.figure(figsize=(12, 6))\n",
    "sns.countplot(data=df, x='Is it rude to ask someone to switch seats with you in order to be closer to friends?')\n",
    "plt.title('General Feelings of moving to be closer to friends')"
   ]
  },
  {
   "cell_type": "raw",
   "id": "460f9013-df68-4059-aafa-6b578dc21e59",
   "metadata": {},
   "source": [
    "This distribution shows an overwhelming response of No, it is not at all rude to ask to move on your flight."
   ]
  },
  {
   "cell_type": "code",
   "execution_count": 12,
   "id": "d2853462-e8d3-42c8-81de-ada014892a00",
   "metadata": {},
   "outputs": [
    {
     "data": {
      "text/plain": [
       "<Axes: xlabel='Age'>"
      ]
     },
     "execution_count": 12,
     "metadata": {},
     "output_type": "execute_result"
    },
    {
     "data": {
      "image/png": "[encoded data removed]",
      "text/plain": [
       "<Figure size 432x288 with 1 Axes>"
      ]
     },
     "metadata": {
      "needs_background": "light"
     },
     "output_type": "display_data"
    }
   ],
   "source": [
    "# create stacked bar chart to show age as a variable\n",
    "pivot_df = df.pivot_table(index='Age', columns='Is it rude to ask someone to switch seats with you in order to be closer to friends?', aggfunc='size', fill_value=0)\n",
    "pivot_df.plot(kind='bar', stacked='True')"
   ]
  },
  {
   "cell_type": "raw",
   "id": "2cc7314d-aa94-4917-9288-ca8672455ad1",
   "metadata": {},
   "source": [
    "Across all age gaps, the consensus seems to be the same. (No, not at all rude)"
   ]
  },
  {
   "cell_type": "code",
   "execution_count": 13,
   "id": "338e9cfa-76e9-48f7-814a-e5f840808771",
   "metadata": {},
   "outputs": [
    {
     "data": {
      "image/png": "[encoded data removed]",
      "text/plain": [
       "<Figure size 720x432 with 1 Axes>"
      ]
     },
     "metadata": {
      "needs_background": "light"
     },
     "output_type": "display_data"
    }
   ],
   "source": [
    "# Box Plot\n",
    "plt.figure(figsize=(10, 6))\n",
    "sns.boxplot(x= 'Do you ever recline your seat when you fly?', y='Height (Inches)', data=df)\n",
    "plt.title('The Height of Seat Recliners')\n",
    "plt.show()"
   ]
  },
  {
   "cell_type": "raw",
   "id": "e39a2447-fc5c-430c-a8a5-0a9fe4497c06",
   "metadata": {},
   "source": [
    "The distribution is similar across all passengers; However, taller people lean towards always reclining or usually, and shorter people lean towards never or half the time"
   ]
  },
  {
   "cell_type": "code",
   "execution_count": null,
   "id": "88b96290-f270-4f68-8f2a-3f35fcdafc4d",
   "metadata": {},
   "outputs": [],
   "source": []
  }
 ],
 "metadata": {
  "kernelspec": {
   "display_name": "Python 3 (ipykernel)",
   "language": "python",
   "name": "python3"
  },
  "language_info": {
   "codemirror_mode": {
    "name": "ipython",
    "version": 3
   },
   "file_extension": ".py",
   "mimetype": "text/x-python",
   "name": "python",
   "nbconvert_exporter": "python",
   "pygments_lexer": "ipython3",
   "version": "3.10.11"
  }
 },
 "nbformat": 4,
 "nbformat_minor": 5
}
