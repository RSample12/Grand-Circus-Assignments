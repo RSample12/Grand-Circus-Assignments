{
 "cells": [
  {
   "cell_type": "code",
   "execution_count": 1,
   "id": "53d3dd1b-4e6a-44b6-b541-be078afcc792",
   "metadata": {},
   "outputs": [],
   "source": [
    "import matplotlib.pyplot as plt\n",
    "import seaborn as sns\n",
    "import pandas as pd"
   ]
  },
  {
   "cell_type": "code",
   "execution_count": 2,
   "id": "5893815d-42ac-4a6a-975d-7f8570eb4f97",
   "metadata": {},
   "outputs": [],
   "source": [
    "# You may use seaborn or matplotlib for your plots. Plot must include:\n",
    "# Title\n",
    "# X-axis title\n",
    "# Y-axis title\n",
    "# Proper dimensions\n",
    "# Any necessary legends\n"
   ]
  },
  {
   "cell_type": "code",
   "execution_count": 3,
   "id": "b4073832-e99b-4632-87f9-9efcb21a31f0",
   "metadata": {},
   "outputs": [],
   "source": [
    "# create histogram, bin size = 5\n",
    "sales = [38, 29, 48, 29, 32, 37, 18, 38, 14, 13, 30, 26, 48, 15, 35, 28, 18, 31, 24, 33, 25, 13, 32, 37, 39, 41, 38, 40, 18, 35, 18, 12, 27, 43, 22, 38, 23, 37, 27, 12, 12, 37, 15, 30, 28, 24, 12, 34, 17, 32, 16, 14, 18, 40, 23, 20, 19, 47, 44, 11, 35, 16, 15, 26, 15, 35, 17, 30, 19, 38, 34, 28, 29, 25, 21, 49, 43, 42, 24, 20, 10, 23, 10, 28, 24, 24, 15, 46, 41, 14, 17, 16, 39, 32, 36, 18, 24, 40, 45, 27, 39, 21, 19, 10, 12, 10, 39, 19, 45, 19, 46, 14, 15, 12, 36, 10, 48, 26, 49, 33, 39, 34, 35, 28, 38, 35, 14, 31, 31, 35, 46, 39, 38, 16, 47, 10, 33, 22, 22, 49, 46, 46, 43, 19, 49, 21, 34, 45, 26, 43, 18, 42, 12, 41, 21, 17, 40, 23, 25, 44, 49, 29, 28, 38, 14, 22, 11, 24, 14, 22, 39, 20, 29, 24, 18, 37, 30, 34, 45, 21, 43, 22, 37, 17, 26, 35, 43, 38, 47, 30, 25, 25, 48, 15, 40, 17, 41, 14, 22, 22, 35, 32, 12, 17, 40, 19, 33, 44, 16, 45, 20, 20, 42, 21, 34, 26, 23, 16, 39, 45, 29, 35, 23, 13, 49, 45, 15, 47, 10, 39, 46, 19, 42, 24, 27, 27, 43, 36, 12, 46, 11, 15, 32, 17, 45, 26, 11, 37, 37, 10, 47, 12, 45, 11, 19, 20, 45, 38, 33, 15, 42, 47, 10, 29, 37, 43, 27, 39, 14, 19, 23, 26, 21, 29, 11, 26, 23, 24, 38, 17, 13, 41, 43, 12, 32, 48, 14, 29, 28, 18, 34, 43, 13, 11, 17, 42, 12, 41, 11, 38, 36, 32, 24, 44, 41, 20, 30, 28, 39, 25, 48, 44, 35, 26, 12, 39, 23, 30, 27, 36, 49, 30, 28, 18, 24, 36, 28, 17, 22, 12, 33, 14, 25, 42, 32, 30, 33, 19, 12, 48, 37, 35, 32, 14, 12, 12, 26, 16, 17, 48, 49, 27, 35, 45, 37, 23, 12, 21, 28, 16, 44, 46, 39, 37, 43]"
   ]
  },
  {
   "cell_type": "code",
   "execution_count": 4,
   "id": "9d6d2a52-7bee-4a40-8e43-48331fc5d023",
   "metadata": {},
   "outputs": [
    {
     "data": {
      "image/png": "[encoded data removed]",
      "text/plain": [
       "<Figure size 432x288 with 1 Axes>"
      ]
     },
     "metadata": {
      "needs_background": "light"
     },
     "output_type": "display_data"
    }
   ],
   "source": [
    "# histogram with binsize 5\n",
    "plt.hist(sales, bins=range(10, 51, 5), edgecolor='black')\n",
    "\n",
    "# labels\n",
    "plt.xlabel('Daily Sales Amount')\n",
    "plt.ylabel('Frequency')\n",
    "\n",
    "# Add a title and show\n",
    "plt.title('Frequency of Daily Sales Amount')\n",
    "plt.show()"
   ]
  },
  {
   "cell_type": "code",
   "execution_count": 10,
   "id": "99b3b220-2973-46e5-aea3-e323f950053f",
   "metadata": {},
   "outputs": [
    {
     "data": {
      "text/html": [
       "<div>\n",
       "<style scoped>\n",
       "    .dataframe tbody tr th:only-of-type {\n",
       "        vertical-align: middle;\n",
       "    }\n",
       "\n",
       "    .dataframe tbody tr th {\n",
       "        vertical-align: top;\n",
       "    }\n",
       "\n",
       "    .dataframe thead th {\n",
       "        text-align: right;\n",
       "    }\n",
       "</style>\n",
       "<table border=\"1\" class=\"dataframe\">\n",
       "  <thead>\n",
       "    <tr style=\"text-align: right;\">\n",
       "      <th></th>\n",
       "      <th>temp</th>\n",
       "      <th>sales</th>\n",
       "    </tr>\n",
       "  </thead>\n",
       "  <tbody>\n",
       "    <tr>\n",
       "      <th>0</th>\n",
       "      <td>57.56</td>\n",
       "      <td>215</td>\n",
       "    </tr>\n",
       "    <tr>\n",
       "      <th>1</th>\n",
       "      <td>61.52</td>\n",
       "      <td>325</td>\n",
       "    </tr>\n",
       "    <tr>\n",
       "      <th>2</th>\n",
       "      <td>53.42</td>\n",
       "      <td>185</td>\n",
       "    </tr>\n",
       "    <tr>\n",
       "      <th>3</th>\n",
       "      <td>59.36</td>\n",
       "      <td>332</td>\n",
       "    </tr>\n",
       "    <tr>\n",
       "      <th>4</th>\n",
       "      <td>65.30</td>\n",
       "      <td>406</td>\n",
       "    </tr>\n",
       "    <tr>\n",
       "      <th>5</th>\n",
       "      <td>71.78</td>\n",
       "      <td>522</td>\n",
       "    </tr>\n",
       "    <tr>\n",
       "      <th>6</th>\n",
       "      <td>66.92</td>\n",
       "      <td>412</td>\n",
       "    </tr>\n",
       "    <tr>\n",
       "      <th>7</th>\n",
       "      <td>77.18</td>\n",
       "      <td>614</td>\n",
       "    </tr>\n",
       "    <tr>\n",
       "      <th>8</th>\n",
       "      <td>74.12</td>\n",
       "      <td>544</td>\n",
       "    </tr>\n",
       "    <tr>\n",
       "      <th>9</th>\n",
       "      <td>64.58</td>\n",
       "      <td>421</td>\n",
       "    </tr>\n",
       "  </tbody>\n",
       "</table>\n",
       "</div>"
      ],
      "text/plain": [
       "    temp  sales\n",
       "0  57.56    215\n",
       "1  61.52    325\n",
       "2  53.42    185\n",
       "3  59.36    332\n",
       "4  65.30    406\n",
       "5  71.78    522\n",
       "6  66.92    412\n",
       "7  77.18    614\n",
       "8  74.12    544\n",
       "9  64.58    421"
      ]
     },
     "execution_count": 10,
     "metadata": {},
     "output_type": "execute_result"
    }
   ],
   "source": [
    "# Frozen Ygurt Sales vs temp\n",
    "d = {\n",
    "    'temp': [57.56, 61.52, 53.42, 59.36, 65.3, 71.78, 66.92, 77.18, 74.12, 64.58],\n",
    "    'sales': [215, 325, 185, 332, 406, 522, 412, 614, 544, 421]\n",
    "}\n",
    "data = pd.DataFrame(d)\n",
    "data"
   ]
  },
  {
   "cell_type": "code",
   "execution_count": 11,
   "id": "d92cb292-6927-413b-9e94-b419680a36a1",
   "metadata": {},
   "outputs": [
    {
     "data": {
      "text/plain": [
       "<seaborn.axisgrid.FacetGrid at 0x178d6dd9270>"
      ]
     },
     "execution_count": 11,
     "metadata": {},
     "output_type": "execute_result"
    },
    {
     "data": {
      "image/png": "[encoded data removed]",
      "text/plain": [
       "<Figure size 360x360 with 1 Axes>"
      ]
     },
     "metadata": {
      "needs_background": "light"
     },
     "output_type": "display_data"
    }
   ],
   "source": [
    "# Scatter plot woth temp and sales\n",
    "sns.relplot(data=data, x=\"sales\", y=\"temp\")"
   ]
  },
  {
   "cell_type": "code",
   "execution_count": null,
   "id": "f8f20e75-85ed-4a0e-bced-1a5bd91cf0cb",
   "metadata": {},
   "outputs": [],
   "source": []
  }
 ],
 "metadata": {
  "kernelspec": {
   "display_name": "Python 3 (ipykernel)",
   "language": "python",
   "name": "python3"
  },
  "language_info": {
   "codemirror_mode": {
    "name": "ipython",
    "version": 3
   },
   "file_extension": ".py",
   "mimetype": "text/x-python",
   "name": "python",
   "nbconvert_exporter": "python",
   "pygments_lexer": "ipython3",
   "version": "3.10.11"
  }
 },
 "nbformat": 4,
 "nbformat_minor": 5
}
